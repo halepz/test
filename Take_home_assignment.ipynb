{
  "nbformat": 4,
  "nbformat_minor": 0,
  "metadata": {
    "colab": {
      "name": "Take-home assignment.ipynb",
      "provenance": [],
      "authorship_tag": "ABX9TyMQyM4eE2mSNRThMIQ5hg4M",
      "include_colab_link": true
    },
    "kernelspec": {
      "name": "python3",
      "display_name": "Python 3"
    },
    "language_info": {
      "name": "python"
    }
  },
  "cells": [
    {
      "cell_type": "markdown",
      "metadata": {
        "id": "view-in-github",
        "colab_type": "text"
      },
      "source": [
        "<a href=\"https://colab.research.google.com/github/halepz/test/blob/master/Take_home_assignment.ipynb\" target=\"_parent\"><img src=\"https://colab.research.google.com/assets/colab-badge.svg\" alt=\"Open In Colab\"/></a>"
      ]
    },
    {
      "cell_type": "code",
      "metadata": {
        "id": "2hz5aZhh2UNj"
      },
      "source": [
        "import pandas as pd\n",
        "import numpy as np"
      ],
      "execution_count": 1,
      "outputs": []
    },
    {
      "cell_type": "code",
      "metadata": {
        "id": "ejqCg0QX2ncf"
      },
      "source": [
        "url = (\"https://raw.githubusercontent.com/halepz/test/master/test.csv\")\n",
        "test = pd.read_csv(url, sep = '|')\n",
        "\n",
        "url = (\"https://raw.githubusercontent.com/halepz/test/master/train.csv\")\n",
        "train = pd.read_csv(url, sep = '|')"
      ],
      "execution_count": 2,
      "outputs": []
    },
    {
      "cell_type": "code",
      "metadata": {
        "colab": {
          "base_uri": "https://localhost:8080/",
          "height": 1000
        },
        "id": "mQEy8Bnp7zls",
        "outputId": "f3280fee-03b8-4d01-c313-0a43f2faabe4"
      },
      "source": [
        "train.head().T"
      ],
      "execution_count": 3,
      "outputs": [
        {
          "output_type": "execute_result",
          "data": {
            "text/html": [
              "<div>\n",
              "<style scoped>\n",
              "    .dataframe tbody tr th:only-of-type {\n",
              "        vertical-align: middle;\n",
              "    }\n",
              "\n",
              "    .dataframe tbody tr th {\n",
              "        vertical-align: top;\n",
              "    }\n",
              "\n",
              "    .dataframe thead th {\n",
              "        text-align: right;\n",
              "    }\n",
              "</style>\n",
              "<table border=\"1\" class=\"dataframe\">\n",
              "  <thead>\n",
              "    <tr style=\"text-align: right;\">\n",
              "      <th></th>\n",
              "      <th>0</th>\n",
              "      <th>1</th>\n",
              "      <th>2</th>\n",
              "      <th>3</th>\n",
              "      <th>4</th>\n",
              "    </tr>\n",
              "  </thead>\n",
              "  <tbody>\n",
              "    <tr>\n",
              "      <th>id</th>\n",
              "      <td>465</td>\n",
              "      <td>174</td>\n",
              "      <td>502</td>\n",
              "      <td>579</td>\n",
              "      <td>530</td>\n",
              "    </tr>\n",
              "    <tr>\n",
              "      <th>school</th>\n",
              "      <td>MS</td>\n",
              "      <td>GP</td>\n",
              "      <td>MS</td>\n",
              "      <td>MS</td>\n",
              "      <td>MS</td>\n",
              "    </tr>\n",
              "    <tr>\n",
              "      <th>sex</th>\n",
              "      <td>F</td>\n",
              "      <td>M</td>\n",
              "      <td>M</td>\n",
              "      <td>M</td>\n",
              "      <td>M</td>\n",
              "    </tr>\n",
              "    <tr>\n",
              "      <th>age</th>\n",
              "      <td>18</td>\n",
              "      <td>17</td>\n",
              "      <td>17</td>\n",
              "      <td>18</td>\n",
              "      <td>17</td>\n",
              "    </tr>\n",
              "    <tr>\n",
              "      <th>address</th>\n",
              "      <td>U</td>\n",
              "      <td>R</td>\n",
              "      <td>R</td>\n",
              "      <td>U</td>\n",
              "      <td>U</td>\n",
              "    </tr>\n",
              "    <tr>\n",
              "      <th>famsize</th>\n",
              "      <td>GT3</td>\n",
              "      <td>LE3</td>\n",
              "      <td>LE3</td>\n",
              "      <td>LE3</td>\n",
              "      <td>GT3</td>\n",
              "    </tr>\n",
              "    <tr>\n",
              "      <th>Pstatus</th>\n",
              "      <td>T</td>\n",
              "      <td>T</td>\n",
              "      <td>T</td>\n",
              "      <td>T</td>\n",
              "      <td>T</td>\n",
              "    </tr>\n",
              "    <tr>\n",
              "      <th>Medu</th>\n",
              "      <td>1</td>\n",
              "      <td>2</td>\n",
              "      <td>2</td>\n",
              "      <td>1</td>\n",
              "      <td>3</td>\n",
              "    </tr>\n",
              "    <tr>\n",
              "      <th>Fedu</th>\n",
              "      <td>2</td>\n",
              "      <td>1</td>\n",
              "      <td>2</td>\n",
              "      <td>3</td>\n",
              "      <td>3</td>\n",
              "    </tr>\n",
              "    <tr>\n",
              "      <th>Mjob</th>\n",
              "      <td>other</td>\n",
              "      <td>at_home</td>\n",
              "      <td>services</td>\n",
              "      <td>at_home</td>\n",
              "      <td>services</td>\n",
              "    </tr>\n",
              "    <tr>\n",
              "      <th>Fjob</th>\n",
              "      <td>other</td>\n",
              "      <td>other</td>\n",
              "      <td>services</td>\n",
              "      <td>services</td>\n",
              "      <td>services</td>\n",
              "    </tr>\n",
              "    <tr>\n",
              "      <th>reason</th>\n",
              "      <td>course</td>\n",
              "      <td>course</td>\n",
              "      <td>other</td>\n",
              "      <td>course</td>\n",
              "      <td>home</td>\n",
              "    </tr>\n",
              "    <tr>\n",
              "      <th>guardian</th>\n",
              "      <td>father</td>\n",
              "      <td>mother</td>\n",
              "      <td>mother</td>\n",
              "      <td>mother</td>\n",
              "      <td>mother</td>\n",
              "    </tr>\n",
              "    <tr>\n",
              "      <th>traveltime</th>\n",
              "      <td>1</td>\n",
              "      <td>2</td>\n",
              "      <td>3</td>\n",
              "      <td>1</td>\n",
              "      <td>1</td>\n",
              "    </tr>\n",
              "    <tr>\n",
              "      <th>studytime</th>\n",
              "      <td>2</td>\n",
              "      <td>1</td>\n",
              "      <td>4</td>\n",
              "      <td>1</td>\n",
              "      <td>1</td>\n",
              "    </tr>\n",
              "    <tr>\n",
              "      <th>failures</th>\n",
              "      <td>1</td>\n",
              "      <td>1</td>\n",
              "      <td>1</td>\n",
              "      <td>0</td>\n",
              "      <td>0</td>\n",
              "    </tr>\n",
              "    <tr>\n",
              "      <th>schoolsup</th>\n",
              "      <td>no</td>\n",
              "      <td>no</td>\n",
              "      <td>no</td>\n",
              "      <td>no</td>\n",
              "      <td>no</td>\n",
              "    </tr>\n",
              "    <tr>\n",
              "      <th>famsup</th>\n",
              "      <td>yes</td>\n",
              "      <td>no</td>\n",
              "      <td>yes</td>\n",
              "      <td>no</td>\n",
              "      <td>yes</td>\n",
              "    </tr>\n",
              "    <tr>\n",
              "      <th>paid</th>\n",
              "      <td>no</td>\n",
              "      <td>yes</td>\n",
              "      <td>no</td>\n",
              "      <td>no</td>\n",
              "      <td>no</td>\n",
              "    </tr>\n",
              "    <tr>\n",
              "      <th>activities</th>\n",
              "      <td>yes</td>\n",
              "      <td>yes</td>\n",
              "      <td>no</td>\n",
              "      <td>no</td>\n",
              "      <td>yes</td>\n",
              "    </tr>\n",
              "    <tr>\n",
              "      <th>nursery</th>\n",
              "      <td>yes</td>\n",
              "      <td>yes</td>\n",
              "      <td>yes</td>\n",
              "      <td>yes</td>\n",
              "      <td>yes</td>\n",
              "    </tr>\n",
              "    <tr>\n",
              "      <th>higher</th>\n",
              "      <td>yes</td>\n",
              "      <td>no</td>\n",
              "      <td>yes</td>\n",
              "      <td>no</td>\n",
              "      <td>yes</td>\n",
              "    </tr>\n",
              "    <tr>\n",
              "      <th>internet</th>\n",
              "      <td>yes</td>\n",
              "      <td>yes</td>\n",
              "      <td>no</td>\n",
              "      <td>yes</td>\n",
              "      <td>yes</td>\n",
              "    </tr>\n",
              "    <tr>\n",
              "      <th>romantic</th>\n",
              "      <td>yes</td>\n",
              "      <td>yes</td>\n",
              "      <td>no</td>\n",
              "      <td>yes</td>\n",
              "      <td>no</td>\n",
              "    </tr>\n",
              "    <tr>\n",
              "      <th>famrel</th>\n",
              "      <td>3</td>\n",
              "      <td>3</td>\n",
              "      <td>1</td>\n",
              "      <td>4</td>\n",
              "      <td>4</td>\n",
              "    </tr>\n",
              "    <tr>\n",
              "      <th>freetime</th>\n",
              "      <td>4</td>\n",
              "      <td>3</td>\n",
              "      <td>3</td>\n",
              "      <td>3</td>\n",
              "      <td>1</td>\n",
              "    </tr>\n",
              "    <tr>\n",
              "      <th>goout</th>\n",
              "      <td>4</td>\n",
              "      <td>2</td>\n",
              "      <td>5</td>\n",
              "      <td>3</td>\n",
              "      <td>4</td>\n",
              "    </tr>\n",
              "    <tr>\n",
              "      <th>Dalc</th>\n",
              "      <td>2</td>\n",
              "      <td>2</td>\n",
              "      <td>3</td>\n",
              "      <td>2</td>\n",
              "      <td>5</td>\n",
              "    </tr>\n",
              "    <tr>\n",
              "      <th>Walc</th>\n",
              "      <td>3</td>\n",
              "      <td>2</td>\n",
              "      <td>5</td>\n",
              "      <td>3</td>\n",
              "      <td>5</td>\n",
              "    </tr>\n",
              "    <tr>\n",
              "      <th>health</th>\n",
              "      <td>5</td>\n",
              "      <td>5</td>\n",
              "      <td>3</td>\n",
              "      <td>3</td>\n",
              "      <td>3</td>\n",
              "    </tr>\n",
              "    <tr>\n",
              "      <th>absences</th>\n",
              "      <td>9</td>\n",
              "      <td>8</td>\n",
              "      <td>2</td>\n",
              "      <td>0</td>\n",
              "      <td>8</td>\n",
              "    </tr>\n",
              "    <tr>\n",
              "      <th>pass</th>\n",
              "      <td>False</td>\n",
              "      <td>False</td>\n",
              "      <td>False</td>\n",
              "      <td>False</td>\n",
              "      <td>False</td>\n",
              "    </tr>\n",
              "  </tbody>\n",
              "</table>\n",
              "</div>"
            ],
            "text/plain": [
              "                 0        1         2         3         4\n",
              "id             465      174       502       579       530\n",
              "school          MS       GP        MS        MS        MS\n",
              "sex              F        M         M         M         M\n",
              "age             18       17        17        18        17\n",
              "address          U        R         R         U         U\n",
              "famsize        GT3      LE3       LE3       LE3       GT3\n",
              "Pstatus          T        T         T         T         T\n",
              "Medu             1        2         2         1         3\n",
              "Fedu             2        1         2         3         3\n",
              "Mjob         other  at_home  services   at_home  services\n",
              "Fjob         other    other  services  services  services\n",
              "reason      course   course     other    course      home\n",
              "guardian    father   mother    mother    mother    mother\n",
              "traveltime       1        2         3         1         1\n",
              "studytime        2        1         4         1         1\n",
              "failures         1        1         1         0         0\n",
              "schoolsup       no       no        no        no        no\n",
              "famsup         yes       no       yes        no       yes\n",
              "paid            no      yes        no        no        no\n",
              "activities     yes      yes        no        no       yes\n",
              "nursery        yes      yes       yes       yes       yes\n",
              "higher         yes       no       yes        no       yes\n",
              "internet       yes      yes        no       yes       yes\n",
              "romantic       yes      yes        no       yes        no\n",
              "famrel           3        3         1         4         4\n",
              "freetime         4        3         3         3         1\n",
              "goout            4        2         5         3         4\n",
              "Dalc             2        2         3         2         5\n",
              "Walc             3        2         5         3         5\n",
              "health           5        5         3         3         3\n",
              "absences         9        8         2         0         8\n",
              "pass         False    False     False     False     False"
            ]
          },
          "metadata": {
            "tags": []
          },
          "execution_count": 3
        }
      ]
    },
    {
      "cell_type": "code",
      "metadata": {
        "colab": {
          "base_uri": "https://localhost:8080/"
        },
        "id": "4cmQSN859CZj",
        "outputId": "a8d51833-1484-4b53-a728-9e352231c3a1"
      },
      "source": [
        "train.dtypes"
      ],
      "execution_count": 4,
      "outputs": [
        {
          "output_type": "execute_result",
          "data": {
            "text/plain": [
              "id             int64\n",
              "school        object\n",
              "sex           object\n",
              "age            int64\n",
              "address       object\n",
              "famsize       object\n",
              "Pstatus       object\n",
              "Medu           int64\n",
              "Fedu           int64\n",
              "Mjob          object\n",
              "Fjob          object\n",
              "reason        object\n",
              "guardian      object\n",
              "traveltime     int64\n",
              "studytime      int64\n",
              "failures       int64\n",
              "schoolsup     object\n",
              "famsup        object\n",
              "paid          object\n",
              "activities    object\n",
              "nursery       object\n",
              "higher        object\n",
              "internet      object\n",
              "romantic      object\n",
              "famrel         int64\n",
              "freetime       int64\n",
              "goout          int64\n",
              "Dalc           int64\n",
              "Walc           int64\n",
              "health         int64\n",
              "absences       int64\n",
              "pass            bool\n",
              "dtype: object"
            ]
          },
          "metadata": {
            "tags": []
          },
          "execution_count": 4
        }
      ]
    },
    {
      "cell_type": "code",
      "metadata": {
        "colab": {
          "base_uri": "https://localhost:8080/"
        },
        "id": "3ISemel7Le0P",
        "outputId": "285a8233-44c1-4a18-f994-1fb2fe609a66"
      },
      "source": [
        "train[\"pass\"].value_counts()"
      ],
      "execution_count": 5,
      "outputs": [
        {
          "output_type": "execute_result",
          "data": {
            "text/plain": [
              "True     499\n",
              "False     50\n",
              "Name: pass, dtype: int64"
            ]
          },
          "metadata": {
            "tags": []
          },
          "execution_count": 5
        }
      ]
    },
    {
      "cell_type": "code",
      "metadata": {
        "colab": {
          "base_uri": "https://localhost:8080/"
        },
        "id": "2F3lzI5-80-9",
        "outputId": "9cb56b2e-acbf-42ea-d547-4508a22f075a"
      },
      "source": [
        "train.isna().sum()"
      ],
      "execution_count": 6,
      "outputs": [
        {
          "output_type": "execute_result",
          "data": {
            "text/plain": [
              "id            0\n",
              "school        0\n",
              "sex           0\n",
              "age           0\n",
              "address       0\n",
              "famsize       0\n",
              "Pstatus       0\n",
              "Medu          0\n",
              "Fedu          0\n",
              "Mjob          0\n",
              "Fjob          0\n",
              "reason        0\n",
              "guardian      0\n",
              "traveltime    0\n",
              "studytime     0\n",
              "failures      0\n",
              "schoolsup     0\n",
              "famsup        0\n",
              "paid          0\n",
              "activities    0\n",
              "nursery       0\n",
              "higher        0\n",
              "internet      0\n",
              "romantic      0\n",
              "famrel        0\n",
              "freetime      0\n",
              "goout         0\n",
              "Dalc          0\n",
              "Walc          0\n",
              "health        0\n",
              "absences      0\n",
              "pass          0\n",
              "dtype: int64"
            ]
          },
          "metadata": {
            "tags": []
          },
          "execution_count": 6
        }
      ]
    },
    {
      "cell_type": "code",
      "metadata": {
        "colab": {
          "base_uri": "https://localhost:8080/"
        },
        "id": "ny-wcmDK88QE",
        "outputId": "1cbb77dc-98af-4fb2-d38a-8085714413df"
      },
      "source": [
        "test.isna().sum()"
      ],
      "execution_count": 7,
      "outputs": [
        {
          "output_type": "execute_result",
          "data": {
            "text/plain": [
              "id            0\n",
              "school        0\n",
              "sex           0\n",
              "age           0\n",
              "address       0\n",
              "famsize       0\n",
              "Pstatus       0\n",
              "Medu          0\n",
              "Fedu          0\n",
              "Mjob          0\n",
              "Fjob          0\n",
              "reason        0\n",
              "guardian      0\n",
              "traveltime    0\n",
              "studytime     0\n",
              "failures      0\n",
              "schoolsup     0\n",
              "famsup        0\n",
              "paid          0\n",
              "activities    0\n",
              "nursery       0\n",
              "higher        0\n",
              "internet      0\n",
              "romantic      0\n",
              "famrel        0\n",
              "freetime      0\n",
              "goout         0\n",
              "Dalc          0\n",
              "Walc          0\n",
              "health        0\n",
              "absences      0\n",
              "dtype: int64"
            ]
          },
          "metadata": {
            "tags": []
          },
          "execution_count": 7
        }
      ]
    },
    {
      "cell_type": "code",
      "metadata": {
        "colab": {
          "base_uri": "https://localhost:8080/"
        },
        "id": "2TQeaWqe9AEC",
        "outputId": "e6b054b5-7ca8-4df8-a360-76bd9dc58b79"
      },
      "source": [
        "train_changes = train.drop(columns = \"id\")\n",
        "print(train_changes.columns)\n",
        "train_changes['pass'] = train_changes['pass'].astype(int)\n",
        "# pd.get_dummies(train_changes, columns=['school', 'sex', 'address', 'Pstatus', 'guardian', 'famsize', 'reason', 'schoolsup', 'famsup', 'paid', 'activities', 'higher', 'internet', 'romantic'])\n",
        "print(train_changes['Mjob'].unique())\n",
        "print(train_changes['Fjob'].unique())\n",
        "train_changes_dm = pd.get_dummies(train_changes)\n",
        "train_changes_dm.dtypes"
      ],
      "execution_count": 8,
      "outputs": [
        {
          "output_type": "stream",
          "text": [
            "Index(['school', 'sex', 'age', 'address', 'famsize', 'Pstatus', 'Medu', 'Fedu',\n",
            "       'Mjob', 'Fjob', 'reason', 'guardian', 'traveltime', 'studytime',\n",
            "       'failures', 'schoolsup', 'famsup', 'paid', 'activities', 'nursery',\n",
            "       'higher', 'internet', 'romantic', 'famrel', 'freetime', 'goout', 'Dalc',\n",
            "       'Walc', 'health', 'absences', 'pass'],\n",
            "      dtype='object')\n",
            "['other' 'at_home' 'services' 'health' 'teacher']\n",
            "['other' 'services' 'at_home' 'health' 'teacher']\n"
          ],
          "name": "stdout"
        },
        {
          "output_type": "execute_result",
          "data": {
            "text/plain": [
              "age                  int64\n",
              "Medu                 int64\n",
              "Fedu                 int64\n",
              "traveltime           int64\n",
              "studytime            int64\n",
              "failures             int64\n",
              "famrel               int64\n",
              "freetime             int64\n",
              "goout                int64\n",
              "Dalc                 int64\n",
              "Walc                 int64\n",
              "health               int64\n",
              "absences             int64\n",
              "pass                 int64\n",
              "school_GP            uint8\n",
              "school_MS            uint8\n",
              "sex_F                uint8\n",
              "sex_M                uint8\n",
              "address_R            uint8\n",
              "address_U            uint8\n",
              "famsize_GT3          uint8\n",
              "famsize_LE3          uint8\n",
              "Pstatus_A            uint8\n",
              "Pstatus_T            uint8\n",
              "Mjob_at_home         uint8\n",
              "Mjob_health          uint8\n",
              "Mjob_other           uint8\n",
              "Mjob_services        uint8\n",
              "Mjob_teacher         uint8\n",
              "Fjob_at_home         uint8\n",
              "Fjob_health          uint8\n",
              "Fjob_other           uint8\n",
              "Fjob_services        uint8\n",
              "Fjob_teacher         uint8\n",
              "reason_course        uint8\n",
              "reason_home          uint8\n",
              "reason_other         uint8\n",
              "reason_reputation    uint8\n",
              "guardian_father      uint8\n",
              "guardian_mother      uint8\n",
              "guardian_other       uint8\n",
              "schoolsup_no         uint8\n",
              "schoolsup_yes        uint8\n",
              "famsup_no            uint8\n",
              "famsup_yes           uint8\n",
              "paid_no              uint8\n",
              "paid_yes             uint8\n",
              "activities_no        uint8\n",
              "activities_yes       uint8\n",
              "nursery_no           uint8\n",
              "nursery_yes          uint8\n",
              "higher_no            uint8\n",
              "higher_yes           uint8\n",
              "internet_no          uint8\n",
              "internet_yes         uint8\n",
              "romantic_no          uint8\n",
              "romantic_yes         uint8\n",
              "dtype: object"
            ]
          },
          "metadata": {
            "tags": []
          },
          "execution_count": 8
        }
      ]
    },
    {
      "cell_type": "code",
      "metadata": {
        "colab": {
          "base_uri": "https://localhost:8080/"
        },
        "id": "LypzuXgDCjWU",
        "outputId": "357df4bc-2fdc-4fce-8a92-3dd40b723fec"
      },
      "source": [
        "from sklearn.model_selection import train_test_split\n",
        "from sklearn.ensemble import RandomForestClassifier\n",
        "\n",
        "X_train, X_test, y_train, y_test = train_test_split(train_changes_dm.drop(columns = \"pass\"), train_changes_dm['pass'], random_state = 123)\n",
        "modelo = RandomForestClassifier(random_state = 123)\n",
        "modelo.fit(X_train, y_train)"
      ],
      "execution_count": 9,
      "outputs": [
        {
          "output_type": "execute_result",
          "data": {
            "text/plain": [
              "RandomForestClassifier(bootstrap=True, ccp_alpha=0.0, class_weight=None,\n",
              "                       criterion='gini', max_depth=None, max_features='auto',\n",
              "                       max_leaf_nodes=None, max_samples=None,\n",
              "                       min_impurity_decrease=0.0, min_impurity_split=None,\n",
              "                       min_samples_leaf=1, min_samples_split=2,\n",
              "                       min_weight_fraction_leaf=0.0, n_estimators=100,\n",
              "                       n_jobs=None, oob_score=False, random_state=123,\n",
              "                       verbose=0, warm_start=False)"
            ]
          },
          "metadata": {
            "tags": []
          },
          "execution_count": 9
        }
      ]
    },
    {
      "cell_type": "code",
      "metadata": {
        "colab": {
          "base_uri": "https://localhost:8080/"
        },
        "id": "sVh2yzWfDvCh",
        "outputId": "3a783570-d1db-4558-ac7f-b5e925c2a945"
      },
      "source": [
        "from sklearn.metrics import accuracy_score, confusion_matrix, classification_report\n",
        "y_pred_test = modelo.predict(X_test)\n",
        "accuracy_score(y_test, y_pred_test)"
      ],
      "execution_count": 10,
      "outputs": [
        {
          "output_type": "execute_result",
          "data": {
            "text/plain": [
              "0.9202898550724637"
            ]
          },
          "metadata": {
            "tags": []
          },
          "execution_count": 10
        }
      ]
    },
    {
      "cell_type": "code",
      "metadata": {
        "colab": {
          "base_uri": "https://localhost:8080/"
        },
        "id": "8PqUl0GFMJhK",
        "outputId": "b21dec8c-b74e-42bc-a265-37ae45372236"
      },
      "source": [
        "from imblearn.over_sampling import SMOTE\n",
        "sm = SMOTE(random_state=42)\n",
        "x = train_changes_dm.drop(columns = \"pass\")\n",
        "y = train_changes_dm['pass']\n",
        "x_sm, y_sm = sm.fit_resample(x, y)\n",
        "x_train_sm, x_test_sm, y_train_sm, y_test_sm = train_test_split(x_sm, y_sm, test_size=0.7)\n",
        "modelo_sm = modelo\n",
        "modelo_sm.fit(x_train_sm, y_train_sm)\n",
        "y_pred_sm = modelo_sm.predict(x_test_sm)\n",
        "accuracy_score(y_test_sm, y_pred_sm)"
      ],
      "execution_count": 11,
      "outputs": [
        {
          "output_type": "stream",
          "text": [
            "/usr/local/lib/python3.7/dist-packages/sklearn/externals/six.py:31: FutureWarning: The module is deprecated in version 0.21 and will be removed in version 0.23 since we've dropped support for Python 2.7. Please rely on the official version of six (https://pypi.org/project/six/).\n",
            "  \"(https://pypi.org/project/six/).\", FutureWarning)\n",
            "/usr/local/lib/python3.7/dist-packages/sklearn/utils/deprecation.py:144: FutureWarning: The sklearn.neighbors.base module is  deprecated in version 0.22 and will be removed in version 0.24. The corresponding classes / functions should instead be imported from sklearn.neighbors. Anything that cannot be imported from sklearn.neighbors is now part of the private API.\n",
            "  warnings.warn(message, FutureWarning)\n",
            "/usr/local/lib/python3.7/dist-packages/sklearn/utils/deprecation.py:87: FutureWarning: Function safe_indexing is deprecated; safe_indexing is deprecated in version 0.22 and will be removed in version 0.24.\n",
            "  warnings.warn(msg, category=FutureWarning)\n"
          ],
          "name": "stderr"
        },
        {
          "output_type": "execute_result",
          "data": {
            "text/plain": [
              "0.944206008583691"
            ]
          },
          "metadata": {
            "tags": []
          },
          "execution_count": 11
        }
      ]
    },
    {
      "cell_type": "code",
      "metadata": {
        "colab": {
          "base_uri": "https://localhost:8080/"
        },
        "id": "1LWuP_eVIg_j",
        "outputId": "67f6d8ea-e2ad-422a-8e56-b8baf617e706"
      },
      "source": [
        "from sklearn.model_selection import KFold, cross_val_score\n",
        "\n",
        "kf =KFold(n_splits=5, shuffle=True, random_state=42)\n",
        "cnt = 1\n",
        "for train_index, test_index in kf.split(x_sm, y_sm):\n",
        "    cnt += 1\n",
        "\n",
        "def rmse(score):\n",
        "    rmse = np.sqrt(-score)\n",
        "    print(f'rmse= {\"{:.2f}\".format(rmse)}')\n",
        "\n",
        "score = cross_val_score(modelo_sm, x_sm, y_sm, cv= kf, scoring=\"accuracy\")\n",
        "print(f'Scores for each fold are: {score}')\n",
        "print(f'Average score: {\"{:.2f}\".format(score.mean())}')"
      ],
      "execution_count": 12,
      "outputs": [
        {
          "output_type": "stream",
          "text": [
            "Scores for each fold are: [0.985      0.95       0.965      0.98492462 0.95477387]\n",
            "Average score: 0.97\n"
          ],
          "name": "stdout"
        }
      ]
    },
    {
      "cell_type": "code",
      "metadata": {
        "colab": {
          "base_uri": "https://localhost:8080/"
        },
        "id": "GaU3lyXHX9Xf",
        "outputId": "4a5d971c-4e23-42a7-c810-2632e6583818"
      },
      "source": [
        "from xgboost.sklearn import XGBClassifier\n",
        "\n",
        "clf = XGBClassifier(n_estimators=10, random_state=1, n_jobs=-1)\n",
        "\n",
        "score = cross_val_score(clf, x_sm, y_sm, cv= kf, scoring=\"accuracy\")\n",
        "print(f'Scores for each fold are: {score}')\n",
        "print(f'Average score: {\"{:.2f}\".format(score.mean())}')"
      ],
      "execution_count": 13,
      "outputs": [
        {
          "output_type": "stream",
          "text": [
            "Scores for each fold are: [0.865      0.845      0.85       0.88944724 0.89949749]\n",
            "Average score: 0.87\n"
          ],
          "name": "stdout"
        }
      ]
    },
    {
      "cell_type": "code",
      "metadata": {
        "colab": {
          "base_uri": "https://localhost:8080/"
        },
        "id": "V-eip1NVaAB3",
        "outputId": "2b8998e9-7f18-453f-8370-fd1e87c6d82d"
      },
      "source": [
        "from sklearn.model_selection import RandomizedSearchCV\n",
        "# Number of trees in random forest\n",
        "n_estimators = [int(x) for x in np.linspace(start = 200, stop = 2000, num = 10)]\n",
        "# Number of features to consider at every split\n",
        "max_features = ['auto', 'sqrt']\n",
        "# Maximum number of levels in tree\n",
        "max_depth = [int(x) for x in np.linspace(10, 110, num = 11)]\n",
        "max_depth.append(None)\n",
        "# Minimum number of samples required to split a node\n",
        "min_samples_split = [2, 5, 10]\n",
        "# Minimum number of samples required at each leaf node\n",
        "min_samples_leaf = [1, 2, 4]\n",
        "# Method of selecting samples for training each tree\n",
        "bootstrap = [True, False]\n",
        "# Create the random grid\n",
        "random_grid = {'n_estimators': n_estimators,\n",
        "               'max_features': max_features,\n",
        "               'max_depth': max_depth,\n",
        "               'min_samples_split': min_samples_split,\n",
        "               'min_samples_leaf': min_samples_leaf,\n",
        "               'bootstrap': bootstrap}\n",
        "\n",
        "base_model = modelo_sm\n",
        "# Random search of parameters, using 3 fold cross validation, \n",
        "# search across 100 different combinations, and use all available cores\n",
        "rf_random = RandomizedSearchCV(estimator = base_model, param_distributions = random_grid, n_iter = 100, cv = 3, verbose=2, random_state=42, n_jobs = -1)\n",
        "# Fit the random search model\n",
        "rf_random.fit(x_train_sm, y_train_sm)\n"
      ],
      "execution_count": 14,
      "outputs": [
        {
          "output_type": "stream",
          "text": [
            "Fitting 3 folds for each of 100 candidates, totalling 300 fits\n"
          ],
          "name": "stdout"
        },
        {
          "output_type": "stream",
          "text": [
            "[Parallel(n_jobs=-1)]: Using backend LokyBackend with 2 concurrent workers.\n",
            "[Parallel(n_jobs=-1)]: Done  37 tasks      | elapsed:   44.8s\n",
            "[Parallel(n_jobs=-1)]: Done 158 tasks      | elapsed:  3.0min\n",
            "[Parallel(n_jobs=-1)]: Done 300 out of 300 | elapsed:  5.8min finished\n"
          ],
          "name": "stderr"
        },
        {
          "output_type": "execute_result",
          "data": {
            "text/plain": [
              "RandomizedSearchCV(cv=3, error_score=nan,\n",
              "                   estimator=RandomForestClassifier(bootstrap=True,\n",
              "                                                    ccp_alpha=0.0,\n",
              "                                                    class_weight=None,\n",
              "                                                    criterion='gini',\n",
              "                                                    max_depth=None,\n",
              "                                                    max_features='auto',\n",
              "                                                    max_leaf_nodes=None,\n",
              "                                                    max_samples=None,\n",
              "                                                    min_impurity_decrease=0.0,\n",
              "                                                    min_impurity_split=None,\n",
              "                                                    min_samples_leaf=1,\n",
              "                                                    min_samples_split=2,\n",
              "                                                    min_weight_fraction_leaf=0.0,\n",
              "                                                    n_estimators=100,\n",
              "                                                    n_jobs...\n",
              "                   param_distributions={'bootstrap': [True, False],\n",
              "                                        'max_depth': [10, 20, 30, 40, 50, 60,\n",
              "                                                      70, 80, 90, 100, 110,\n",
              "                                                      None],\n",
              "                                        'max_features': ['auto', 'sqrt'],\n",
              "                                        'min_samples_leaf': [1, 2, 4],\n",
              "                                        'min_samples_split': [2, 5, 10],\n",
              "                                        'n_estimators': [200, 400, 600, 800,\n",
              "                                                         1000, 1200, 1400, 1600,\n",
              "                                                         1800, 2000]},\n",
              "                   pre_dispatch='2*n_jobs', random_state=42, refit=True,\n",
              "                   return_train_score=False, scoring=None, verbose=2)"
            ]
          },
          "metadata": {
            "tags": []
          },
          "execution_count": 14
        }
      ]
    },
    {
      "cell_type": "code",
      "metadata": {
        "colab": {
          "base_uri": "https://localhost:8080/"
        },
        "id": "R24I9I6HadkA",
        "outputId": "a58774d4-1625-41ac-c40b-d93b2dbb51ff"
      },
      "source": [
        "rf_random.best_params_"
      ],
      "execution_count": 15,
      "outputs": [
        {
          "output_type": "execute_result",
          "data": {
            "text/plain": [
              "{'bootstrap': False,\n",
              " 'max_depth': 40,\n",
              " 'max_features': 'auto',\n",
              " 'min_samples_leaf': 1,\n",
              " 'min_samples_split': 2,\n",
              " 'n_estimators': 1400}"
            ]
          },
          "metadata": {
            "tags": []
          },
          "execution_count": 15
        }
      ]
    },
    {
      "cell_type": "code",
      "metadata": {
        "colab": {
          "base_uri": "https://localhost:8080/"
        },
        "id": "aTlMQTLTah7d",
        "outputId": "e0c07a35-bc15-4e65-a2b5-435f6432ecc7"
      },
      "source": [
        "def evaluate(model, test_features, test_labels):\n",
        "    predictions = model.predict(test_features)\n",
        "    errors = abs(predictions - test_labels)\n",
        "    y_pred_test = model.predict(test_features)\n",
        "    accuracy = accuracy_score(test_labels, y_pred_test) \n",
        "    print('Model Performance')\n",
        "    print('Accuracy = {:0.2f}%.'.format(accuracy))\n",
        "    return accuracy\n",
        "\n",
        "base_model.fit(x_train_sm, y_train_sm)\n",
        "base_accuracy = evaluate(base_model, x_test_sm, y_test_sm)\n",
        "\n",
        "best_random = rf_random.best_estimator_\n",
        "random_accuracy = evaluate(best_random, x_test_sm, y_test_sm)\n",
        "\n",
        "print('Improvement of {:0.2f}%.'.format( 100 * (random_accuracy - base_accuracy) / base_accuracy))"
      ],
      "execution_count": 16,
      "outputs": [
        {
          "output_type": "stream",
          "text": [
            "Model Performance\n",
            "Accuracy = 0.94%.\n",
            "Model Performance\n",
            "Accuracy = 0.95%.\n",
            "Improvement of 0.30%.\n"
          ],
          "name": "stdout"
        }
      ]
    },
    {
      "cell_type": "code",
      "metadata": {
        "colab": {
          "base_uri": "https://localhost:8080/"
        },
        "id": "lIn7z5AkgobW",
        "outputId": "283e7719-1b97-48f8-af71-f8d0501053f8"
      },
      "source": [
        "score = cross_val_score(base_model, x_sm, y_sm, cv= kf, scoring=\"accuracy\")\n",
        "print(f'Scores for each fold are: {score}')\n",
        "print(f'Average score: {\"{:.2f}\".format(score.mean())}')\n",
        "\n",
        "score_best = cross_val_score(best_random, x_sm, y_sm, cv= kf, scoring=\"accuracy\")\n",
        "print(f'Scores for each fold are: {score_best}')\n",
        "print(f'Average score: {\"{:.2f}\".format(score_best.mean())}')\n",
        "\n",
        "print('Improvement of {:0.2f}%.'.format( 100 * (score_best.mean() - score.mean()) / score.mean()))"
      ],
      "execution_count": 17,
      "outputs": [
        {
          "output_type": "stream",
          "text": [
            "Scores for each fold are: [0.985      0.95       0.965      0.98492462 0.95477387]\n",
            "Average score: 0.97\n",
            "Scores for each fold are: [0.985      0.955      0.96       0.98492462 0.94974874]\n",
            "Average score: 0.97\n",
            "Improvement of -0.10%.\n"
          ],
          "name": "stdout"
        }
      ]
    },
    {
      "cell_type": "code",
      "metadata": {
        "colab": {
          "base_uri": "https://localhost:8080/",
          "height": 427
        },
        "id": "YNpOhQhoGMZt",
        "outputId": "38fa86fc-91e7-45a9-9cff-2b4d2e9fbfbf"
      },
      "source": [
        "%matplotlib inline\n",
        "X = train_changes_dm.drop(columns = \"pass\")  #independent columns\n",
        "y = train_changes_dm['pass']   #target column i.e price range\n",
        "from sklearn.ensemble import ExtraTreesClassifier\n",
        "import matplotlib.pyplot as plt\n",
        "model = ExtraTreesClassifier()\n",
        "model.fit(X,y)\n",
        "print(model.feature_importances_) #use inbuilt class feature_importances of tree based classifiers\n",
        "#plot graph of feature importances for better visualization\n",
        "feat_importances = pd.Series(model.feature_importances_, index=X.columns)\n",
        "feat_importances.nlargest(15).plot(kind='barh')\n",
        "plt.show()"
      ],
      "execution_count": 18,
      "outputs": [
        {
          "output_type": "stream",
          "text": [
            "[0.02361823 0.02854774 0.02052635 0.02688145 0.01989945 0.06427181\n",
            " 0.02779128 0.02783446 0.03665922 0.02984838 0.02600201 0.02932684\n",
            " 0.03413981 0.02104012 0.02183486 0.01765467 0.01902185 0.01491128\n",
            " 0.0156411  0.01500475 0.01596907 0.00810743 0.00769838 0.01123232\n",
            " 0.00624785 0.01553118 0.01034849 0.00565779 0.00850608 0.00128936\n",
            " 0.01989816 0.01307687 0.00238451 0.02016139 0.01516979 0.02360501\n",
            " 0.0075644  0.01390308 0.0176287  0.00914789 0.01310698 0.01577765\n",
            " 0.0193578  0.01694916 0.01054806 0.00807872 0.01591354 0.01639525\n",
            " 0.01456877 0.01409102 0.02491415 0.02260637 0.01406516 0.01411016\n",
            " 0.01217406 0.01375973]\n"
          ],
          "name": "stdout"
        },
        {
          "output_type": "display_data",
          "data": {
            "image/png": "[encoded data removed]",
            "text/plain": [
              "<Figure size 432x288 with 1 Axes>"
            ]
          },
          "metadata": {
            "tags": [],
            "needs_background": "light"
          }
        }
      ]
    },
    {
      "cell_type": "code",
      "metadata": {
        "colab": {
          "base_uri": "https://localhost:8080/"
        },
        "id": "oHqqU66aS_8S",
        "outputId": "c0ad5857-09e9-4889-8f26-3764a680aad6"
      },
      "source": [
        "train_changes_dm_select = train_changes_dm[['failures', 'goout', 'Dalc', 'famrel', 'absences', 'Walc', 'traveltime', 'reason_other', 'freetime','pass']]\n",
        "\n",
        "modelo_select = RandomForestClassifier (random_state=42)\n",
        "\n",
        "sm = SMOTE(random_state=42)\n",
        "x_select = train_changes_dm_select.drop(columns = \"pass\")\n",
        "y_select = train_changes_dm_select['pass']\n",
        "x_select_sm, y_select_sm = sm.fit_resample(x_select, y_select)\n",
        "x_select_train_sm, x_select_test_sm, y_select_train_sm, y_select_test_sm = train_test_split(x_select_sm, y_select_sm, test_size=0.1)\n",
        "modelo_select.fit(x_select_train_sm, y_select_train_sm)\n",
        "y_pred_sm = modelo_select.predict(x_select_test_sm)\n",
        "accuracy_score(y_pred_sm, y_select_test_sm)\n",
        "\n",
        "cnt = 1\n",
        "# split()  method generate indices to split data into training and test set.\n",
        "for train_index, test_index in kf.split(x_select_sm, y_select_sm):\n",
        "    cnt += 1\n",
        "\n",
        "def rmse(score):\n",
        "    rmse = np.sqrt(-score)\n",
        "    print(f'rmse= {\"{:.2f}\".format(rmse)}')\n",
        "\n",
        "score = cross_val_score(modelo_select, x_select_sm, y_select_sm, cv= kf, scoring=\"accuracy\")\n",
        "print(f'Scores for each fold are: {score}')\n",
        "print(f'Average score: {\"{:.2f}\".format(score.mean())}')\n",
        "\n",
        "score = cross_val_score(clf,  x_select_sm, y_select_sm, cv= kf, scoring=\"accuracy\")\n",
        "print(f'Scores for each fold are: {score}')\n",
        "print(f'Average score: {\"{:.2f}\".format(score.mean())}')"
      ],
      "execution_count": 19,
      "outputs": [
        {
          "output_type": "stream",
          "text": [
            "/usr/local/lib/python3.7/dist-packages/sklearn/utils/deprecation.py:87: FutureWarning: Function safe_indexing is deprecated; safe_indexing is deprecated in version 0.22 and will be removed in version 0.24.\n",
            "  warnings.warn(msg, category=FutureWarning)\n"
          ],
          "name": "stderr"
        },
        {
          "output_type": "stream",
          "text": [
            "Scores for each fold are: [0.85       0.89       0.82       0.87939698 0.83417085]\n",
            "Average score: 0.85\n",
            "Scores for each fold are: [0.72       0.775      0.685      0.63316583 0.75376884]\n",
            "Average score: 0.71\n"
          ],
          "name": "stdout"
        }
      ]
    },
    {
      "cell_type": "code",
      "metadata": {
        "colab": {
          "base_uri": "https://localhost:8080/",
          "height": 408
        },
        "id": "4JlPivIlsMtD",
        "outputId": "5501a4df-2fd8-4b0f-d05f-5d6391c5f7c3"
      },
      "source": [
        "train_changes = test.drop(columns = \"id\")\n",
        "test_changes_dm = pd.get_dummies(train_changes)\n",
        "y_hats = modelo_sm.predict(test_changes_dm)\n",
        "test_changes_dm['preds'] = y_hats\n",
        "prediction = pd.merge(test[\"id\"],test_changes_dm[['preds']],how = 'left',left_index = True, right_index = True)\n",
        "prediction.to_csv(\"prediction.csv\", index = False)\n",
        "prediction "
      ],
      "execution_count": 20,
      "outputs": [
        {
          "output_type": "execute_result",
          "data": {
            "text/html": [
              "<div>\n",
              "<style scoped>\n",
              "    .dataframe tbody tr th:only-of-type {\n",
              "        vertical-align: middle;\n",
              "    }\n",
              "\n",
              "    .dataframe tbody tr th {\n",
              "        vertical-align: top;\n",
              "    }\n",
              "\n",
              "    .dataframe thead th {\n",
              "        text-align: right;\n",
              "    }\n",
              "</style>\n",
              "<table border=\"1\" class=\"dataframe\">\n",
              "  <thead>\n",
              "    <tr style=\"text-align: right;\">\n",
              "      <th></th>\n",
              "      <th>id</th>\n",
              "      <th>preds</th>\n",
              "    </tr>\n",
              "  </thead>\n",
              "  <tbody>\n",
              "    <tr>\n",
              "      <th>0</th>\n",
              "      <td>523</td>\n",
              "      <td>1</td>\n",
              "    </tr>\n",
              "    <tr>\n",
              "      <th>1</th>\n",
              "      <td>491</td>\n",
              "      <td>0</td>\n",
              "    </tr>\n",
              "    <tr>\n",
              "      <th>2</th>\n",
              "      <td>597</td>\n",
              "      <td>0</td>\n",
              "    </tr>\n",
              "    <tr>\n",
              "      <th>3</th>\n",
              "      <td>581</td>\n",
              "      <td>0</td>\n",
              "    </tr>\n",
              "    <tr>\n",
              "      <th>4</th>\n",
              "      <td>131</td>\n",
              "      <td>1</td>\n",
              "    </tr>\n",
              "    <tr>\n",
              "      <th>...</th>\n",
              "      <td>...</td>\n",
              "      <td>...</td>\n",
              "    </tr>\n",
              "    <tr>\n",
              "      <th>95</th>\n",
              "      <td>300</td>\n",
              "      <td>1</td>\n",
              "    </tr>\n",
              "    <tr>\n",
              "      <th>96</th>\n",
              "      <td>228</td>\n",
              "      <td>1</td>\n",
              "    </tr>\n",
              "    <tr>\n",
              "      <th>97</th>\n",
              "      <td>206</td>\n",
              "      <td>1</td>\n",
              "    </tr>\n",
              "    <tr>\n",
              "      <th>98</th>\n",
              "      <td>164</td>\n",
              "      <td>1</td>\n",
              "    </tr>\n",
              "    <tr>\n",
              "      <th>99</th>\n",
              "      <td>204</td>\n",
              "      <td>1</td>\n",
              "    </tr>\n",
              "  </tbody>\n",
              "</table>\n",
              "<p>100 rows × 2 columns</p>\n",
              "</div>"
            ],
            "text/plain": [
              "     id  preds\n",
              "0   523      1\n",
              "1   491      0\n",
              "2   597      0\n",
              "3   581      0\n",
              "4   131      1\n",
              "..  ...    ...\n",
              "95  300      1\n",
              "96  228      1\n",
              "97  206      1\n",
              "98  164      1\n",
              "99  204      1\n",
              "\n",
              "[100 rows x 2 columns]"
            ]
          },
          "metadata": {
            "tags": []
          },
          "execution_count": 20
        }
      ]
    }
  ]
}